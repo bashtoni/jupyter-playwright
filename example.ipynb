{
  "cells": [
    {
      "cell_type": "code",
      "execution_count": 1,
      "id": "b54e59be-a574-4c80-9953-40ccfda76478",
      "metadata": {},
      "outputs": [],
      "source": [
        "from IPython.display import Image # Used to output screenshots"
      ]
    },
    {
      "cell_type": "code",
      "execution_count": 2,
      "id": "75ac7c49-6628-4308-befa-3ab9aabb69a9",
      "metadata": {},
      "outputs": [],
      "source": [
        "from playwright.async_api import async_playwright\n",
        "pw = await async_playwright().start()\n",
        "browser = await pw.chromium.launch(headless=True)\n",
        "page = await browser.new_page()"
      ]
    },
    {
      "cell_type": "code",
      "execution_count": 3,
      "id": "52610381-3adc-46a2-9c63-6a89d595f30c",
      "metadata": {},
      "outputs": [],
      "source": [
        "result = await page.goto(\"https://icanhazip.com/\")"
      ]
    },
    {
      "cell_type": "code",
      "execution_count": 4,
      "id": "d58275e4-1928-486f-840c-84e569a45f39",
      "metadata": {},
      "outputs": [],
      "source": [
        "Image(await page.screenshot(path='/dev/null'))"
      ]
    },
    {
      "cell_type": "code",
      "execution_count": null,
      "id": "67725ccf-d832-4047-a904-ec23e545c6ec",
      "metadata": {},
      "outputs": [],
      "source": []
    }
  ],
  "metadata": {
    "kernelspec": {
      "display_name": "Python 3 (ipykernel)",
      "language": "python",
      "name": "python3"
    },
    "language_info": {
      "codemirror_mode": {
        "name": "ipython",
        "version": 3
      },
      "file_extension": ".py",
      "mimetype": "text/x-python",
      "name": "python",
      "nbconvert_exporter": "python",
      "pygments_lexer": "ipython3",
      "version": "3.11.9"
    }
  },
  "nbformat": 4,
  "nbformat_minor": 5
}
